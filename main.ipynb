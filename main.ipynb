{
 "cells": [
  {
   "cell_type": "markdown",
   "metadata": {},
   "source": [
    "# Webinar Python-ID Jogja\n",
    "\n",
    "## Topik\n",
    "Topik kita kali ini adalah **Bermain Mikrokontroler dengan menggunakan MicroPython.**\n",
    "\n",
    "## Pemateri\n",
    "Pemateri pada topik ini akan dibawakan oleh **Ardy Seto Priambodo, S.T., M.Eng.**\n",
    "\n",
    "## Poster\n",
    "<img src=\"pic/poster.jpg\" width=\"450\" align=\"center\"/>"
   ]
  },
  {
   "cell_type": "markdown",
   "metadata": {},
   "source": [
    "# Materi Teori\n",
    "\n",
    "## MicroPython\n",
    "MicroPython is a lean and efficient implementation of the Python 3 programming language that includes a small subset of the Python standard library and is optimised to run on microcontrollers and in constrained environments.\n",
    "\n",
    "web: https://micropython.org/\n",
    "\n",
    "doc: http://docs.micropython.org/en/latest/\n",
    "\n",
    "<img src=\"pic/logo-micropython.png\" width=\"200\" align=\"left\"/> <br> <br> <br> <br> <br> <br> <br> <br> <br> <br> <br>\n",
    "\n",
    "## ESP32\n",
    "\n",
    "ESP32 is a series of low-cost, low-power system on a chip microcontrollers with integrated Wi-Fi and dual-mode Bluetooth.\n",
    "\n",
    "web: https://www.espressif.com/en/products/socs/esp32/overview\n",
    "\n",
    "Salah satu board yang menggunakan ESP32, lolin32 lite:\n",
    "\n",
    "<img src=\"pic/lolin32-lite.png\" width=\"400\" align=\"left\"/>"
   ]
  },
  {
   "cell_type": "markdown",
   "metadata": {},
   "source": [
    "# Praktik\n",
    "\n",
    "## Instalasi MicroPython ke ESP32\n",
    "\n",
    "### Perangkat yang dibutuhkan:\n",
    " - python (saya merekomendasikan conda)\n",
    " - esptool\n",
    " - jupyter\n",
    " - ESP32\n",
    " - led RGB\n",
    " - sensor DHT11\n"
   ]
  },
  {
   "cell_type": "markdown",
   "metadata": {},
   "source": [
    "### Instalasi Python\n",
    "sumber: https://docs.conda.io/projects/conda/en/latest/user-guide/install/download.html\n",
    "\n",
    "saya menggunakan versi minimalis yaitu Miniconda\n",
    "\n",
    "<img src=\"pic/miniconda.png\" width=\"275\" align=\"left\"/>"
   ]
  },
  {
   "cell_type": "markdown",
   "metadata": {},
   "source": [
    "### Instalasi esptool\n",
    "saya merekomendasikan membuat environment baru dan sekalian menginstall pip pada environment tersebut, untuk conda bisa ketik perintah berikut\n",
    "> `> conda create --name micropython`\n",
    ">\n",
    "> `> conda install -c anaconda pip`\n",
    "\n",
    "install jupyter dengan perintah:\n",
    "> `> conda install -c anaconda jupyter`\n",
    "\n",
    "install esptool dengan perintah:\n",
    "> `> pip install esptool`\n",
    "\n",
    "cek hasil instalasi dengan ketik dan akan muncul versi yang digunakan\n",
    "> `> esptool`\n",
    "\n",
    "<img src=\"pic/esptool.png\" width=\"750\" align=\"left\"/>"
   ]
  },
  {
   "cell_type": "markdown",
   "metadata": {},
   "source": [
    "### Flash Firmware MicroPython ke ESP32\n",
    "\n",
    "download firmware: http://micropython.org/download/esp32/\n",
    "\n",
    "<img src=\"pic/micropython-firmware.png\" width=\"350\" align=\"left\"/>"
   ]
  },
  {
   "cell_type": "markdown",
   "metadata": {},
   "source": [
    "download bisa dilakukan secara manual dengan klik link atau menggunakan wget dengan perintah:\n",
    "\n",
    "> `> wget http://micropython.org/resources/firmware/esp32-idf3-20191220-v1.12.bin`"
   ]
  },
  {
   "cell_type": "markdown",
   "metadata": {},
   "source": [
    "hubungkan ESP32 dengan laptop / komputer via kabel USB dan cek COM yang terdeteksi via device manager\n",
    "\n",
    "<img src=\"pic/serial-com.png\" width=\"650\" align=\"left\"/>"
   ]
  },
  {
   "cell_type": "markdown",
   "metadata": {},
   "source": [
    "hapus firmware sebelum kita mengupgrade firmware yang lebih baru dengan mengetik:\n",
    "\n",
    "> `> esptool.py --chip esp32 erase_flash`\n",
    "\n",
    "kemudian flash firmware yang telah kita download dengan cara ketik (perhatikan COM yang digunakan):\n",
    "> `> esptool.py --chip esp32 --port COM9 write_flash -z 0x1000 esp32-idf3-20191220-v1.12.bin`"
   ]
  },
  {
   "cell_type": "markdown",
   "metadata": {},
   "source": [
    "## REPL (Read-Eval-Print Loop)\n",
    "\n",
    "download putty: https://www.chiark.greenend.org.uk/~sgtatham/putty/latest.html\n",
    "\n",
    "jalankan dan isi COM yang digunakan serta baudrate 115200 dan klik open untuk membuka koneksi\n",
    "\n",
    "<img src=\"pic/putty-1.png\" width=\"450\" align=\"left\"/>"
   ]
  },
  {
   "cell_type": "markdown",
   "metadata": {},
   "source": [
    "setelah dijalankan maka akan muncul shell yang mana merupakan dari micropython yang ada pada ESP32\n",
    "\n",
    "<img src=\"pic/putty-2.png\" width=\"650\" align=\"left\"/>"
   ]
  },
  {
   "cell_type": "markdown",
   "metadata": {},
   "source": [
    "## Jupyter notebook MicroPython Kernel\n",
    "\n",
    "install kernel pada jupyter notebook dengan mengetik:\n",
    "> `> git clone https://github.com/goatchurchprime/jupyter_micropython_kernel.git`\n",
    ">\n",
    "> `> pip install -e jupyter_micropython_kernel`\n",
    ">\n",
    "> `> python -m jupyter_micropython_kernel.install`"
   ]
  },
  {
   "cell_type": "markdown",
   "metadata": {},
   "source": [
    "buka jupyter notebook dengan perintah:\n",
    "> `> jupyter notebook`\n",
    "\n",
    "<img src=\"pic/jupyter-notebook.png\" width=\"650\" align=\"left\"/>"
   ]
  },
  {
   "cell_type": "markdown",
   "metadata": {},
   "source": [
    "## Live Code"
   ]
  },
  {
   "cell_type": "markdown",
   "metadata": {},
   "source": [
    "### Koneksi"
   ]
  },
  {
   "cell_type": "code",
   "execution_count": 1,
   "metadata": {
    "ExecuteTime": {
     "end_time": "2020-06-26T00:34:24.858418Z",
     "start_time": "2020-06-26T00:34:24.409387Z"
    }
   },
   "outputs": [
    {
     "name": "stdout",
     "output_type": "stream",
     "text": [
      "\u001b[34mConnecting to --port=COM9 --baud=115200 \u001b[0m\n",
      "\u001b[34mReady.\n",
      "\u001b[0m"
     ]
    }
   ],
   "source": [
    "# koneksi kernel dari Jupyter MicroPython dengan ESP32\n",
    "%serialconnect"
   ]
  },
  {
   "cell_type": "markdown",
   "metadata": {},
   "source": [
    "### Print"
   ]
  },
  {
   "cell_type": "code",
   "execution_count": 2,
   "metadata": {
    "ExecuteTime": {
     "end_time": "2020-06-26T00:34:24.885420Z",
     "start_time": "2020-06-26T00:34:24.860419Z"
    }
   },
   "outputs": [
    {
     "name": "stdout",
     "output_type": "stream",
     "text": [
      "Bermain MicroPython dengan Jupyter Notebook\r\n"
     ]
    }
   ],
   "source": [
    "# print string\n",
    "print('Bermain MicroPython dengan Jupyter Notebook')"
   ]
  },
  {
   "cell_type": "code",
   "execution_count": 3,
   "metadata": {
    "ExecuteTime": {
     "end_time": "2020-06-26T00:34:24.899422Z",
     "start_time": "2020-06-26T00:34:24.887421Z"
    }
   },
   "outputs": [
    {
     "name": "stdout",
     "output_type": "stream",
     "text": [
      "45\r\n"
     ]
    }
   ],
   "source": [
    "# print int\n",
    "print(1+2+3+4+5+6+7+8+9)"
   ]
  },
  {
   "cell_type": "markdown",
   "metadata": {},
   "source": [
    "### Led Blink"
   ]
  },
  {
   "cell_type": "markdown",
   "metadata": {},
   "source": [
    "<img src=\"pic/lolin32-lite-led.png\" width=\"250\" align=\"left\"/>"
   ]
  },
  {
   "cell_type": "code",
   "execution_count": 4,
   "metadata": {
    "ExecuteTime": {
     "end_time": "2020-06-26T00:34:24.920423Z",
     "start_time": "2020-06-26T00:34:24.901422Z"
    }
   },
   "outputs": [],
   "source": [
    "# konfigurasi pin yang digunakan untuk LED\n",
    "\n",
    "from machine import Pin\n",
    "led = Pin(22, Pin.OUT)"
   ]
  },
  {
   "cell_type": "code",
   "execution_count": 5,
   "metadata": {
    "ExecuteTime": {
     "end_time": "2020-06-26T00:34:24.938424Z",
     "start_time": "2020-06-26T00:34:24.922424Z"
    }
   },
   "outputs": [],
   "source": [
    "# menyalakan led\n",
    "led.off()"
   ]
  },
  {
   "cell_type": "markdown",
   "metadata": {},
   "source": [
    "<img src=\"pic/lolin32-lite-led-on.jpg\" width=\"250\" align=\"left\"/>"
   ]
  },
  {
   "cell_type": "code",
   "execution_count": 6,
   "metadata": {
    "ExecuteTime": {
     "end_time": "2020-06-26T00:34:24.958426Z",
     "start_time": "2020-06-26T00:34:24.940425Z"
    }
   },
   "outputs": [],
   "source": [
    "# mematikan led\n",
    "led.on()"
   ]
  },
  {
   "cell_type": "markdown",
   "metadata": {},
   "source": [
    "<img src=\"pic/lolin32-lite-led-off.jpg\" width=\"250\" align=\"left\"/>"
   ]
  },
  {
   "cell_type": "markdown",
   "metadata": {},
   "source": [
    "### RGB Led"
   ]
  },
  {
   "cell_type": "markdown",
   "metadata": {},
   "source": [
    "<img src=\"pic/rgb-led.jpg\" width=\"450\" align=\"left\"/>"
   ]
  },
  {
   "cell_type": "code",
   "execution_count": 7,
   "metadata": {
    "ExecuteTime": {
     "end_time": "2020-06-26T00:34:24.980428Z",
     "start_time": "2020-06-26T00:34:24.960427Z"
    }
   },
   "outputs": [],
   "source": [
    "# konfigurasi pin RGB\n",
    "\n",
    "blue = Pin(18, Pin.OUT)\n",
    "green = Pin(19, Pin.OUT)\n",
    "red = Pin(23, Pin.OUT)"
   ]
  },
  {
   "cell_type": "code",
   "execution_count": 8,
   "metadata": {
    "ExecuteTime": {
     "end_time": "2020-06-26T00:34:24.998429Z",
     "start_time": "2020-06-26T00:34:24.981427Z"
    }
   },
   "outputs": [],
   "source": [
    "# menyalakan led BLUE\n",
    "blue.on()"
   ]
  },
  {
   "cell_type": "code",
   "execution_count": 9,
   "metadata": {
    "ExecuteTime": {
     "end_time": "2020-06-26T00:34:25.017934Z",
     "start_time": "2020-06-26T00:34:25.001429Z"
    }
   },
   "outputs": [],
   "source": [
    "# mematikan led BLUE\n",
    "blue.off()"
   ]
  },
  {
   "cell_type": "code",
   "execution_count": 10,
   "metadata": {
    "ExecuteTime": {
     "end_time": "2020-06-26T00:34:25.037936Z",
     "start_time": "2020-06-26T00:34:25.019935Z"
    }
   },
   "outputs": [],
   "source": [
    "# menyalakan led GREEN\n",
    "green.on()"
   ]
  },
  {
   "cell_type": "code",
   "execution_count": 11,
   "metadata": {
    "ExecuteTime": {
     "end_time": "2020-06-26T00:34:25.057938Z",
     "start_time": "2020-06-26T00:34:25.039936Z"
    }
   },
   "outputs": [],
   "source": [
    "# mematikan led GREEN\n",
    "green.off()"
   ]
  },
  {
   "cell_type": "code",
   "execution_count": 12,
   "metadata": {
    "ExecuteTime": {
     "end_time": "2020-06-26T00:34:25.077939Z",
     "start_time": "2020-06-26T00:34:25.059938Z"
    }
   },
   "outputs": [],
   "source": [
    "# menyalakan led RED\n",
    "red.on()"
   ]
  },
  {
   "cell_type": "code",
   "execution_count": 13,
   "metadata": {
    "ExecuteTime": {
     "end_time": "2020-06-26T00:34:25.097941Z",
     "start_time": "2020-06-26T00:34:25.079941Z"
    }
   },
   "outputs": [],
   "source": [
    "# mematikan led RED\n",
    "red.off()"
   ]
  },
  {
   "cell_type": "markdown",
   "metadata": {},
   "source": [
    "### Sensor DHT11"
   ]
  },
  {
   "cell_type": "markdown",
   "metadata": {},
   "source": [
    "<img src=\"pic/dht11.jpg\" width=\"450\" align=\"left\"/>"
   ]
  },
  {
   "cell_type": "code",
   "execution_count": 14,
   "metadata": {
    "ExecuteTime": {
     "end_time": "2020-06-26T00:34:25.392962Z",
     "start_time": "2020-06-26T00:34:25.099941Z"
    }
   },
   "outputs": [],
   "source": [
    "# konfigurasi sensor DHT11\n",
    "import dht\n",
    "sensor = dht.DHT11(Pin(15))\n",
    "sensor.measure()"
   ]
  },
  {
   "cell_type": "code",
   "execution_count": 15,
   "metadata": {
    "ExecuteTime": {
     "end_time": "2020-06-26T00:34:25.413964Z",
     "start_time": "2020-06-26T00:34:25.394963Z"
    }
   },
   "outputs": [
    {
     "name": "stdout",
     "output_type": "stream",
     "text": [
      "27*C\r\n"
     ]
    }
   ],
   "source": [
    "# baca temperature\n",
    "print(str(sensor.temperature()) + '*C')"
   ]
  },
  {
   "cell_type": "code",
   "execution_count": 16,
   "metadata": {
    "ExecuteTime": {
     "end_time": "2020-06-26T00:34:25.433965Z",
     "start_time": "2020-06-26T00:34:25.415964Z"
    }
   },
   "outputs": [
    {
     "name": "stdout",
     "output_type": "stream",
     "text": [
      "69%\r\n"
     ]
    }
   ],
   "source": [
    "# baca kelembaban\n",
    "print(str(sensor.humidity()) + '%')"
   ]
  },
  {
   "cell_type": "code",
   "execution_count": null,
   "metadata": {},
   "outputs": [],
   "source": []
  }
 ],
 "metadata": {
  "kernelspec": {
   "display_name": "MicroPython - USB",
   "language": "micropython",
   "name": "micropython"
  },
  "language_info": {
   "codemirror_mode": "python",
   "file_extension": ".py",
   "mimetype": "text/python",
   "name": "micropython"
  },
  "latex_envs": {
   "LaTeX_envs_menu_present": true,
   "autoclose": false,
   "autocomplete": true,
   "bibliofile": "biblio.bib",
   "cite_by": "apalike",
   "current_citInitial": 1,
   "eqLabelWithNumbers": true,
   "eqNumInitial": 1,
   "hotkeys": {
    "equation": "Ctrl-E",
    "itemize": "Ctrl-I"
   },
   "labels_anchors": false,
   "latex_user_defs": false,
   "report_style_numbering": false,
   "user_envs_cfg": false
  },
  "toc": {
   "base_numbering": 1,
   "nav_menu": {},
   "number_sections": true,
   "sideBar": true,
   "skip_h1_title": false,
   "title_cell": "Table of Contents",
   "title_sidebar": "Contents",
   "toc_cell": false,
   "toc_position": {
    "height": "calc(100% - 180px)",
    "left": "10px",
    "top": "150px",
    "width": "307.2px"
   },
   "toc_section_display": true,
   "toc_window_display": false
  },
  "varInspector": {
   "cols": {
    "lenName": 16,
    "lenType": 16,
    "lenVar": 40
   },
   "kernels_config": {
    "python": {
     "delete_cmd_postfix": "",
     "delete_cmd_prefix": "del ",
     "library": "var_list.py",
     "varRefreshCmd": "print(var_dic_list())"
    },
    "r": {
     "delete_cmd_postfix": ") ",
     "delete_cmd_prefix": "rm(",
     "library": "var_list.r",
     "varRefreshCmd": "cat(var_dic_list()) "
    }
   },
   "types_to_exclude": [
    "module",
    "function",
    "builtin_function_or_method",
    "instance",
    "_Feature"
   ],
   "window_display": false
  }
 },
 "nbformat": 4,
 "nbformat_minor": 4
}
