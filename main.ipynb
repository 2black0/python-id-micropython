{
 "cells": [
  {
   "cell_type": "markdown",
   "metadata": {},
   "source": [
    "# Webinar Python-ID Jogja\n",
    "\n",
    "## Topik\n",
    "Topik kita kali ini adalah **Bermain Mikrokontroler dengan menggunakan MicroPython.**\n",
    "<br>\n",
    "Materi bisa diakses di : https://s.id/kSiA7\n",
    "\n",
    "## Pemateri\n",
    "Pemateri pada topik ini akan dibawakan oleh **Ardy Seto Priambodo, S.T., M.Eng.**\n",
    "\n",
    "## Poster\n",
    "<img src=\"pic/poster.jpg\" width=\"450\" align=\"center\"/>"
   ]
  },
  {
   "cell_type": "markdown",
   "metadata": {},
   "source": [
    "# Materi Teori\n",
    "\n",
    "## MicroPython\n",
    "MicroPython is a lean and efficient implementation of the Python 3 programming language that includes a small subset of the Python standard library and is optimised to run on microcontrollers and in constrained environments.\n",
    "\n",
    "web: https://micropython.org/\n",
    "\n",
    "doc: http://docs.micropython.org/en/latest/\n",
    "\n",
    "<img src=\"pic/damian.png\" width=\"200\"/>\n",
    "\n",
    "<img src=\"pic/logo-micropython.png\" width=\"200\"/>"
   ]
  },
  {
   "cell_type": "markdown",
   "metadata": {},
   "source": [
    "## Supported Board / Chip\n",
    "\n",
    "Supported board list : https://micropython.org/download/\n",
    "\n",
    "<img src=\"pic/board-list-1.png\" width=\"450\"/>\n",
    "\n",
    "<img src=\"pic/board-list-2.png\" width=\"250\"/>\n",
    "\n",
    "<img src=\"pic/board-list-3.png\" width=\"450\"/>"
   ]
  },
  {
   "cell_type": "markdown",
   "metadata": {},
   "source": [
    "## ESP32\n",
    "\n",
    "ESP32 is a series of low-cost, low-power system on a chip microcontrollers with integrated Wi-Fi and dual-mode Bluetooth.\n",
    "\n",
    "web: https://www.espressif.com/en/products/socs/esp32/overview\n",
    "\n",
    "Salah satu board yang menggunakan ESP32, lolin32 lite:\n",
    "\n",
    "<img src=\"pic/lolin32-lite.png\" width=\"400\"/>"
   ]
  },
  {
   "cell_type": "markdown",
   "metadata": {},
   "source": [
    "# Praktik\n",
    "\n",
    "## Live Online\n",
    "Micropython.org menyediakan live micropython secara online yang diberi nama unicorn, bisa diakses di: https://micropython.org/unicorn/\n",
    "\n",
    "## Instalasi MicroPython ke ESP32\n",
    "\n",
    "### Perangkat yang dibutuhkan:\n",
    " - python (saya merekomendasikan conda)\n",
    " - esptool\n",
    " - jupyter\n",
    " - ESP32\n",
    " - led RGB\n",
    " - sensor DHT11\n"
   ]
  },
  {
   "cell_type": "markdown",
   "metadata": {},
   "source": [
    "### Instalasi Python\n",
    "sumber: https://docs.conda.io/projects/conda/en/latest/user-guide/install/download.html\n",
    "\n",
    "saya menggunakan versi minimalis yaitu Miniconda\n",
    "\n",
    "<img src=\"pic/miniconda.png\" width=\"275\"/>"
   ]
  },
  {
   "cell_type": "markdown",
   "metadata": {},
   "source": [
    "### Instalasi esptool\n",
    "saya merekomendasikan membuat environment baru dan sekalian menginstall pip pada environment tersebut, untuk conda bisa ketik perintah berikut\n",
    "> `> conda create --name micropython`\n",
    ">\n",
    "> `> conda install -c anaconda pip`\n",
    "\n",
    "install jupyter dengan perintah:\n",
    "> `> conda install -c anaconda jupyter`\n",
    "\n",
    "install esptool dengan perintah:\n",
    "> `> pip install esptool`\n",
    "\n",
    "cek hasil instalasi dengan ketik dan akan muncul versi yang digunakan\n",
    "> `> esptool`\n",
    "\n",
    "<img src=\"pic/esptool.png\" width=\"750\"/>"
   ]
  },
  {
   "cell_type": "markdown",
   "metadata": {},
   "source": [
    "### Flash Firmware MicroPython ke ESP32\n",
    "\n",
    "download firmware: http://micropython.org/download/esp32/\n",
    "\n",
    "<img src=\"pic/micropython-firmware.png\" width=\"350\"/>"
   ]
  },
  {
   "cell_type": "markdown",
   "metadata": {},
   "source": [
    "download bisa dilakukan secara manual dengan klik link atau menggunakan wget dengan perintah:\n",
    "\n",
    "> `> wget http://micropython.org/resources/firmware/esp32-idf3-20191220-v1.12.bin`"
   ]
  },
  {
   "cell_type": "markdown",
   "metadata": {},
   "source": [
    "hubungkan ESP32 dengan laptop / komputer via kabel USB dan cek COM yang terdeteksi via device manager\n",
    "\n",
    "<img src=\"pic/serial-com.png\" width=\"650\"/>"
   ]
  },
  {
   "cell_type": "markdown",
   "metadata": {},
   "source": [
    "hapus firmware sebelum kita mengupgrade firmware yang lebih baru dengan mengetik:\n",
    "\n",
    "> `> esptool.py --chip esp32 erase_flash`\n",
    "\n",
    "kemudian flash firmware yang telah kita download dengan cara ketik (perhatikan COM yang digunakan):\n",
    "> `> esptool.py --chip esp32 --port COM9 write_flash -z 0x1000 esp32-idf3-20191220-v1.12.bin`"
   ]
  },
  {
   "cell_type": "markdown",
   "metadata": {},
   "source": [
    "## REPL (Read-Eval-Print Loop)\n",
    "\n",
    "download putty: https://www.chiark.greenend.org.uk/~sgtatham/putty/latest.html\n",
    "\n",
    "jalankan dan isi COM yang digunakan serta baudrate 115200 dan klik open untuk membuka koneksi\n",
    "\n",
    "<img src=\"pic/putty-1.png\" width=\"450\"/>"
   ]
  },
  {
   "cell_type": "markdown",
   "metadata": {},
   "source": [
    "setelah dijalankan maka akan muncul shell yang mana merupakan dari micropython yang ada pada ESP32\n",
    "\n",
    "<img src=\"pic/putty-2.png\" width=\"650\"/>"
   ]
  },
  {
   "cell_type": "markdown",
   "metadata": {},
   "source": [
    "## Jupyter notebook MicroPython Kernel\n",
    "\n",
    "install kernel pada jupyter notebook dengan mengetik:\n",
    "> `> git clone https://github.com/goatchurchprime/jupyter_micropython_kernel.git`\n",
    ">\n",
    "> `> pip install -e jupyter_micropython_kernel`\n",
    ">\n",
    "> `> python -m jupyter_micropython_kernel.install`"
   ]
  },
  {
   "cell_type": "markdown",
   "metadata": {},
   "source": [
    "buka jupyter notebook dengan perintah:\n",
    "> `> jupyter notebook`\n",
    "\n",
    "<img src=\"pic/jupyter-notebook.png\" width=\"650\"/>"
   ]
  },
  {
   "cell_type": "markdown",
   "metadata": {},
   "source": [
    "## Live Code"
   ]
  },
  {
   "cell_type": "markdown",
   "metadata": {},
   "source": [
    "### Koneksi"
   ]
  },
  {
   "cell_type": "code",
   "execution_count": 1,
   "metadata": {
    "ExecuteTime": {
     "end_time": "2020-06-27T03:13:47.315254Z",
     "start_time": "2020-06-27T03:13:46.854708Z"
    }
   },
   "outputs": [
    {
     "name": "stdout",
     "output_type": "stream",
     "text": [
      "\u001b[34mConnecting to --port=COM9 --baud=115200 \u001b[0m\n",
      "\u001b[34mReady.\n",
      "\u001b[0m"
     ]
    }
   ],
   "source": [
    "# koneksi kernel dari Jupyter MicroPython dengan ESP32\n",
    "%serialconnect"
   ]
  },
  {
   "cell_type": "markdown",
   "metadata": {},
   "source": [
    "### Print"
   ]
  },
  {
   "cell_type": "code",
   "execution_count": 2,
   "metadata": {
    "ExecuteTime": {
     "end_time": "2020-06-27T03:13:47.342255Z",
     "start_time": "2020-06-27T03:13:47.317254Z"
    }
   },
   "outputs": [
    {
     "name": "stdout",
     "output_type": "stream",
     "text": [
      "Bermain MicroPython dengan Jupyter Notebook\r\n"
     ]
    }
   ],
   "source": [
    "# print string\n",
    "print('Bermain MicroPython dengan Jupyter Notebook')"
   ]
  },
  {
   "cell_type": "code",
   "execution_count": 3,
   "metadata": {
    "ExecuteTime": {
     "end_time": "2020-06-27T03:13:47.357256Z",
     "start_time": "2020-06-27T03:13:47.344257Z"
    }
   },
   "outputs": [
    {
     "name": "stdout",
     "output_type": "stream",
     "text": [
      "45\r\n"
     ]
    }
   ],
   "source": [
    "# print int\n",
    "print(1+2+3+4+5+6+7+8+9)"
   ]
  },
  {
   "cell_type": "code",
   "execution_count": 4,
   "metadata": {
    "ExecuteTime": {
     "end_time": "2020-06-27T03:13:47.379260Z",
     "start_time": "2020-06-27T03:13:47.358256Z"
    }
   },
   "outputs": [
    {
     "name": "stdout",
     "output_type": "stream",
     "text": [
      "1267650600228229401496703205376\r\n"
     ]
    }
   ],
   "source": [
    "print(2**100)"
   ]
  },
  {
   "cell_type": "code",
   "execution_count": 5,
   "metadata": {
    "ExecuteTime": {
     "end_time": "2020-06-27T03:13:47.403260Z",
     "start_time": "2020-06-27T03:13:47.381259Z"
    }
   },
   "outputs": [
    {
     "name": "stdout",
     "output_type": "stream",
     "text": [
      "belajar micropython\r\n"
     ]
    }
   ],
   "source": [
    "string1 = 'belajar '\n",
    "string2 = 'micropython'\n",
    "\n",
    "print(string1 + string2)"
   ]
  },
  {
   "cell_type": "code",
   "execution_count": 6,
   "metadata": {
    "ExecuteTime": {
     "end_time": "2020-06-27T03:13:47.418263Z",
     "start_time": "2020-06-27T03:13:47.404261Z"
    }
   },
   "outputs": [
    {
     "name": "stdout",
     "output_type": "stream",
     "text": [
      "<class 'int'>\n"
     ]
    }
   ],
   "source": [
    "print(type(123))"
   ]
  },
  {
   "cell_type": "code",
   "execution_count": 7,
   "metadata": {
    "ExecuteTime": {
     "end_time": "2020-06-27T03:13:47.439769Z",
     "start_time": "2020-06-27T03:13:47.420264Z"
    }
   },
   "outputs": [
    {
     "name": "stdout",
     "output_type": "stream",
     "text": [
      "<class 'str'>\n"
     ]
    }
   ],
   "source": [
    "print(type('ardy seto'))"
   ]
  },
  {
   "cell_type": "code",
   "execution_count": 8,
   "metadata": {
    "ExecuteTime": {
     "end_time": "2020-06-27T03:13:47.462774Z",
     "start_time": "2020-06-27T03:13:47.441767Z"
    }
   },
   "outputs": [
    {
     "name": "stdout",
     "output_type": "stream",
     "text": [
      "[3.14, 2.55, 7.23, 5.12]\r\n"
     ]
    }
   ],
   "source": [
    "list = [3.14, 2.55, 7.23, 5.12]\n",
    "print(list)"
   ]
  },
  {
   "cell_type": "markdown",
   "metadata": {},
   "source": [
    "### Led Blink"
   ]
  },
  {
   "cell_type": "markdown",
   "metadata": {},
   "source": [
    "<img src=\"pic/lolin32-lite-led.png\" width=\"250\"/>"
   ]
  },
  {
   "cell_type": "code",
   "execution_count": 9,
   "metadata": {
    "ExecuteTime": {
     "end_time": "2020-06-27T03:13:47.490774Z",
     "start_time": "2020-06-27T03:13:47.465773Z"
    }
   },
   "outputs": [],
   "source": [
    "# konfigurasi pin yang digunakan untuk LED\n",
    "\n",
    "from machine import Pin\n",
    "from time import sleep\n",
    "led = Pin(22, Pin.OUT)"
   ]
  },
  {
   "cell_type": "code",
   "execution_count": 10,
   "metadata": {
    "ExecuteTime": {
     "end_time": "2020-06-27T03:13:48.508027Z",
     "start_time": "2020-06-27T03:13:47.491774Z"
    }
   },
   "outputs": [],
   "source": [
    "# menyalakan led\n",
    "led.value(0)\n",
    "sleep(1)"
   ]
  },
  {
   "cell_type": "markdown",
   "metadata": {},
   "source": [
    "<img src=\"pic/lolin32-lite-led-on.jpg\" width=\"250\"/>"
   ]
  },
  {
   "cell_type": "code",
   "execution_count": 11,
   "metadata": {
    "ExecuteTime": {
     "end_time": "2020-06-27T03:13:49.526545Z",
     "start_time": "2020-06-27T03:13:48.509024Z"
    }
   },
   "outputs": [],
   "source": [
    "# mematikan led\n",
    "led.value(1)\n",
    "sleep(1)"
   ]
  },
  {
   "cell_type": "markdown",
   "metadata": {},
   "source": [
    "<img src=\"pic/lolin32-lite-led-off.jpg\" width=\"250\"/>"
   ]
  },
  {
   "cell_type": "code",
   "execution_count": 12,
   "metadata": {
    "ExecuteTime": {
     "end_time": "2020-06-27T03:13:49.562781Z",
     "start_time": "2020-06-27T03:13:49.527545Z"
    }
   },
   "outputs": [],
   "source": [
    "def ledBlink():\n",
    "    for i in range(5):\n",
    "        \n",
    "        led.on()\n",
    "        print('led off')\n",
    "        sleep(0.5)\n",
    "        \n",
    "        led.off()\n",
    "        print('led on')\n",
    "        sleep(0.5)"
   ]
  },
  {
   "cell_type": "code",
   "execution_count": 13,
   "metadata": {
    "ExecuteTime": {
     "end_time": "2020-06-27T03:13:54.577310Z",
     "start_time": "2020-06-27T03:13:49.563782Z"
    }
   },
   "outputs": [
    {
     "name": "stdout",
     "output_type": "stream",
     "text": [
      "led off\n",
      "led on\n",
      "led off\n",
      "led on\n",
      "led off\n",
      "led on\n",
      "led off\n",
      "led on\n",
      "led off\n",
      "led on\n"
     ]
    }
   ],
   "source": [
    "ledBlink()"
   ]
  },
  {
   "cell_type": "markdown",
   "metadata": {},
   "source": [
    "### RGB Led"
   ]
  },
  {
   "cell_type": "markdown",
   "metadata": {},
   "source": [
    "<img src=\"pic/rgb-led.jpg\" width=\"450\"/>"
   ]
  },
  {
   "cell_type": "code",
   "execution_count": 14,
   "metadata": {
    "ExecuteTime": {
     "end_time": "2020-06-27T03:13:54.600294Z",
     "start_time": "2020-06-27T03:13:54.578312Z"
    }
   },
   "outputs": [],
   "source": [
    "# konfigurasi pin RGB\n",
    "\n",
    "blue = Pin(18, Pin.OUT)\n",
    "green = Pin(19, Pin.OUT)\n",
    "red = Pin(23, Pin.OUT)"
   ]
  },
  {
   "cell_type": "code",
   "execution_count": 15,
   "metadata": {
    "ExecuteTime": {
     "end_time": "2020-06-27T03:13:55.616453Z",
     "start_time": "2020-06-27T03:13:54.601294Z"
    }
   },
   "outputs": [],
   "source": [
    "# menyalakan led BLUE\n",
    "blue.on()\n",
    "sleep(1)"
   ]
  },
  {
   "cell_type": "code",
   "execution_count": 16,
   "metadata": {
    "ExecuteTime": {
     "end_time": "2020-06-27T03:13:56.637251Z",
     "start_time": "2020-06-27T03:13:55.617459Z"
    }
   },
   "outputs": [],
   "source": [
    "# mematikan led BLUE\n",
    "blue.off()\n",
    "sleep(1)"
   ]
  },
  {
   "cell_type": "code",
   "execution_count": 17,
   "metadata": {
    "ExecuteTime": {
     "end_time": "2020-06-27T03:13:57.656335Z",
     "start_time": "2020-06-27T03:13:56.639098Z"
    }
   },
   "outputs": [
    {
     "name": "stdout",
     "output_type": "stream",
     "text": [
      "."
     ]
    }
   ],
   "source": [
    "# menyalakan led GREEN\n",
    "green.on()\n",
    "sleep(1)"
   ]
  },
  {
   "cell_type": "code",
   "execution_count": 18,
   "metadata": {
    "ExecuteTime": {
     "end_time": "2020-06-27T03:13:58.676071Z",
     "start_time": "2020-06-27T03:13:57.659337Z"
    }
   },
   "outputs": [],
   "source": [
    "# mematikan led GREEN\n",
    "green.off()\n",
    "sleep(1)"
   ]
  },
  {
   "cell_type": "code",
   "execution_count": 19,
   "metadata": {
    "ExecuteTime": {
     "end_time": "2020-06-27T03:13:59.696253Z",
     "start_time": "2020-06-27T03:13:58.678070Z"
    }
   },
   "outputs": [],
   "source": [
    "# menyalakan led RED\n",
    "red.on()\n",
    "sleep(1)"
   ]
  },
  {
   "cell_type": "code",
   "execution_count": 20,
   "metadata": {
    "ExecuteTime": {
     "end_time": "2020-06-27T03:14:00.717412Z",
     "start_time": "2020-06-27T03:13:59.698252Z"
    }
   },
   "outputs": [],
   "source": [
    "# mematikan led RED\n",
    "red.off()\n",
    "sleep(1)"
   ]
  },
  {
   "cell_type": "code",
   "execution_count": 21,
   "metadata": {
    "ExecuteTime": {
     "end_time": "2020-06-27T03:14:00.778398Z",
     "start_time": "2020-06-27T03:14:00.719414Z"
    }
   },
   "outputs": [],
   "source": [
    "def discoLed():\n",
    "    print('Disco Led')\n",
    "    for i in range(10):\n",
    "        green.on()\n",
    "        sleep(0.25)\n",
    "        blue.on()\n",
    "        sleep(0.25)\n",
    "        red.on()\n",
    "        blue.off()\n",
    "        sleep(0.25)\n",
    "        green.off()\n",
    "        blue.on()\n",
    "        red.off()\n",
    "        sleep(0.25)\n",
    "        red.on()\n",
    "        sleep(0.25)\n",
    "    green.off()\n",
    "    blue.off()\n",
    "    red.off()"
   ]
  },
  {
   "cell_type": "code",
   "execution_count": 22,
   "metadata": {
    "ExecuteTime": {
     "end_time": "2020-06-27T03:14:13.295548Z",
     "start_time": "2020-06-27T03:14:00.779399Z"
    }
   },
   "outputs": [
    {
     "name": "stdout",
     "output_type": "stream",
     "text": [
      "Disco Led\n",
      "..."
     ]
    }
   ],
   "source": [
    "discoLed()"
   ]
  },
  {
   "cell_type": "markdown",
   "metadata": {},
   "source": [
    "### Sensor DHT11"
   ]
  },
  {
   "cell_type": "markdown",
   "metadata": {},
   "source": [
    "<img src=\"pic/dht11.jpg\" width=\"450\"/>"
   ]
  },
  {
   "cell_type": "code",
   "execution_count": 23,
   "metadata": {
    "ExecuteTime": {
     "end_time": "2020-06-27T03:14:14.603301Z",
     "start_time": "2020-06-27T03:14:13.301527Z"
    }
   },
   "outputs": [],
   "source": [
    "# konfigurasi sensor DHT11\n",
    "import dht\n",
    "sensor = dht.DHT11(Pin(15))\n",
    "sleep(1)\n",
    "sensor.measure()"
   ]
  },
  {
   "cell_type": "code",
   "execution_count": 24,
   "metadata": {
    "ExecuteTime": {
     "end_time": "2020-06-27T03:14:15.631989Z",
     "start_time": "2020-06-27T03:14:14.606281Z"
    }
   },
   "outputs": [
    {
     "name": "stdout",
     "output_type": "stream",
     "text": [
      "27*C\r\n"
     ]
    }
   ],
   "source": [
    "# baca temperature\n",
    "sleep(1)\n",
    "print(str(sensor.temperature()) + '*C')"
   ]
  },
  {
   "cell_type": "code",
   "execution_count": 25,
   "metadata": {
    "ExecuteTime": {
     "end_time": "2020-06-27T03:14:16.661399Z",
     "start_time": "2020-06-27T03:14:15.633989Z"
    }
   },
   "outputs": [
    {
     "name": "stdout",
     "output_type": "stream",
     "text": [
      "72%\r\n"
     ]
    }
   ],
   "source": [
    "# baca kelembaban\n",
    "sleep(1)\n",
    "print(str(sensor.humidity()) + '%')"
   ]
  },
  {
   "cell_type": "code",
   "execution_count": 26,
   "metadata": {
    "ExecuteTime": {
     "end_time": "2020-06-27T03:14:16.700383Z",
     "start_time": "2020-06-27T03:14:16.664383Z"
    }
   },
   "outputs": [],
   "source": [
    "def bacaSensor():\n",
    "    sleep(1)\n",
    "    t = sensor.temperature()\n",
    "    h = sensor.humidity()\n",
    "    print('temperature malam ini:', t, '*C dan kelembaban:', h, '%')"
   ]
  },
  {
   "cell_type": "code",
   "execution_count": 27,
   "metadata": {
    "ExecuteTime": {
     "end_time": "2020-06-27T03:14:17.721231Z",
     "start_time": "2020-06-27T03:14:16.701383Z"
    }
   },
   "outputs": [
    {
     "name": "stdout",
     "output_type": "stream",
     "text": [
      "temperature malam ini: 27 *C dan kelembaban: 72 %\r\n"
     ]
    }
   ],
   "source": [
    "bacaSensor()"
   ]
  },
  {
   "cell_type": "code",
   "execution_count": null,
   "metadata": {},
   "outputs": [],
   "source": []
  }
 ],
 "metadata": {
  "kernelspec": {
   "display_name": "MicroPython - USB",
   "language": "micropython",
   "name": "micropython"
  },
  "language_info": {
   "codemirror_mode": "python",
   "file_extension": ".py",
   "mimetype": "text/python",
   "name": "micropython"
  },
  "latex_envs": {
   "LaTeX_envs_menu_present": true,
   "autoclose": false,
   "autocomplete": true,
   "bibliofile": "biblio.bib",
   "cite_by": "apalike",
   "current_citInitial": 1,
   "eqLabelWithNumbers": true,
   "eqNumInitial": 1,
   "hotkeys": {
    "equation": "Ctrl-E",
    "itemize": "Ctrl-I"
   },
   "labels_anchors": false,
   "latex_user_defs": false,
   "report_style_numbering": false,
   "user_envs_cfg": false
  },
  "toc": {
   "base_numbering": 1,
   "nav_menu": {},
   "number_sections": true,
   "sideBar": true,
   "skip_h1_title": false,
   "title_cell": "Table of Contents",
   "title_sidebar": "Contents",
   "toc_cell": false,
   "toc_position": {
    "height": "calc(100% - 180px)",
    "left": "10px",
    "top": "150px",
    "width": "307.2px"
   },
   "toc_section_display": true,
   "toc_window_display": false
  },
  "varInspector": {
   "cols": {
    "lenName": 16,
    "lenType": 16,
    "lenVar": 40
   },
   "kernels_config": {
    "python": {
     "delete_cmd_postfix": "",
     "delete_cmd_prefix": "del ",
     "library": "var_list.py",
     "varRefreshCmd": "print(var_dic_list())"
    },
    "r": {
     "delete_cmd_postfix": ") ",
     "delete_cmd_prefix": "rm(",
     "library": "var_list.r",
     "varRefreshCmd": "cat(var_dic_list()) "
    }
   },
   "types_to_exclude": [
    "module",
    "function",
    "builtin_function_or_method",
    "instance",
    "_Feature"
   ],
   "window_display": false
  }
 },
 "nbformat": 4,
 "nbformat_minor": 4
}
