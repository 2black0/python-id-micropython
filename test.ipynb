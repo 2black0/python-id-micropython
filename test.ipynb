{
 "cells": [
  {
   "cell_type": "code",
   "execution_count": 1,
   "metadata": {},
   "outputs": [
    {
     "name": "stdout",
     "output_type": "stream",
     "text": [
      "\u001b[34mConnecting to --port=COM9 --baud=115200 \u001b[0m\n",
      "\u001b[34mReady.\n",
      "\u001b[0m"
     ]
    }
   ],
   "source": [
    "%serialconnect\n",
    "#%serialconnect to connect\n",
    "#%esptool to flash the device\n",
    "#%lsmagic to list commands"
   ]
  },
  {
   "cell_type": "code",
   "execution_count": 2,
   "metadata": {},
   "outputs": [
    {
     "name": "stdout",
     "output_type": "stream",
     "text": [
      "object <module 'umachine'> is of type module\n",
      "  __name__ -- umachine\n",
      "  mem8 -- <8-bit memory>\n",
      "  mem16 -- <16-bit memory>\n",
      "  mem32 -- <32-bit memory>\n",
      "  freq -- <function>\n",
      "  reset -- <function>\n",
      "  unique_id -- <function>\n",
      "  sleep -- <function>\n",
      "  lightsleep -- <function>\n",
      "  deepsleep -- <function>\n",
      "  idle -- <function>\n",
      "  disable_irq -- <function>\n",
      "  enable_irq -- <function>\n",
      "  time_pulse_us -- <function>\n",
      "  Timer -- <class 'Timer'>\n",
      "  WDT -- <class 'WDT'>\n",
      "  SDCard -- <class 'SDCard'>\n",
      "  SLEEP -- 2\n",
      "  DEEPSLEEP -- 4\n",
      "  Pin -- <class 'Pin'>\n",
      "  Signal -- <class 'Signal'>\n",
      "  TouchPad -- <class 'TouchPad'>\n",
      "  ADC -- <class 'ADC'>\n",
      "  DAC -- <class 'DAC'>\n",
      "  I2C -- <class 'I2C'>\n",
      "  PWM -- <class 'PWM'>\n",
      "  RTC -- <class 'RTC'>\n",
      "  SPI -- <class 'SoftSPI'>\n",
      "  UART -- <class 'UART'>\n",
      "  reset_cause -- <function>\n",
      "  HARD_RESET -- 2\n",
      "  PWRON_RESET -- 1\n",
      "  WDT_RESET -- 3\n",
      "  DEEPSLEEP_RESET -- 4\n",
      "  SOFT_RESET -- 5\n",
      "  wake_reason -- <function>\n",
      "  PIN_WAKE -- 2\n",
      "  EXT0_WAKE -- 2\n",
      "  EXT1_WAKE -- 3\n",
      "  TIMER_WAKE -- 4\n",
      "  TOUCHPAD_WAKE -- 5\n",
      "  ULP_WAKE -- 6\n"
     ]
    }
   ],
   "source": [
    "#show class and function in module\n",
    "import machine\n",
    "help(machine)"
   ]
  },
  {
   "cell_type": "code",
   "execution_count": 3,
   "metadata": {},
   "outputs": [
    {
     "name": "stdout",
     "output_type": "stream",
     "text": [
      "led off\n",
      "led on\n"
     ]
    }
   ],
   "source": [
    "#led control\n",
    "from machine import Pin\n",
    "from time import sleep\n",
    "led = Pin(22, Pin.OUT)\n",
    "print('led off')\n",
    "led.on()\n",
    "sleep(1)\n",
    "print('led on')\n",
    "led.off()"
   ]
  },
  {
   "cell_type": "code",
   "execution_count": 4,
   "metadata": {},
   "outputs": [
    {
     "name": "stdout",
     "output_type": "stream",
     "text": [
      "27*C\n",
      "75%\n"
     ]
    }
   ],
   "source": [
    "#read dht\n",
    "import dht\n",
    "from time import sleep\n",
    "dht11 = dht.DHT11(Pin(15))\n",
    "dht11.measure()\n",
    "print(str(dht11.temperature()) + '*C')\n",
    "print(str(dht11.humidity()) + '%')"
   ]
  },
  {
   "cell_type": "code",
   "execution_count": 5,
   "metadata": {},
   "outputs": [
    {
     "name": "stdout",
     "output_type": "stream",
     "text": [
      "int\n",
      "7\n",
      "<class 'int'>\n",
      "\n",
      "\n",
      "float\n",
      "7.0\n",
      "<class 'float'>\n",
      "7.0\n",
      "<class 'float'>\n",
      "\n",
      "\n",
      "str\n",
      "hello\n",
      "<class 'str'>\n",
      "hello\n",
      "<class 'str'>\n",
      "Don't worry about apostrophes\n",
      "<class 'str'>\n",
      "\n",
      "\n",
      "int operation\n",
      "3\n",
      "\n",
      "\n",
      "str operation\n",
      "hello world\n",
      "\n",
      "\n",
      "multi variable\n",
      "3 4\n",
      "\n",
      "\n"
     ]
    }
   ],
   "source": [
    "# variable and datatype\n",
    "#int\n",
    "print('int')\n",
    "myint = 7\n",
    "print(myint)\n",
    "print(type(myint))\n",
    "print('\\n')\n",
    "\n",
    "#float\n",
    "print('float')\n",
    "myfloat = 7.0\n",
    "print(myfloat)\n",
    "print(type(myfloat))\n",
    "myfloat = float(7)\n",
    "print(myfloat)\n",
    "print(type(myfloat))\n",
    "print('\\n')\n",
    "\n",
    "#string\n",
    "print('str')\n",
    "mystring = 'hello'\n",
    "print(mystring)\n",
    "print(type(mystring))\n",
    "mystring = \"hello\"\n",
    "print(mystring)\n",
    "print(type(mystring))\n",
    "mystring = \"Don't worry about apostrophes\"\n",
    "print(mystring)\n",
    "print(type(mystring))\n",
    "print('\\n')\n",
    "\n",
    "#int operation\n",
    "print('int operation')\n",
    "one = 1\n",
    "two = 2\n",
    "three = one + two\n",
    "print(three)\n",
    "print('\\n')\n",
    "\n",
    "#str operation\n",
    "print('str operation')\n",
    "hello = \"hello\"\n",
    "world = \"world\"\n",
    "helloworld = hello + \" \" + world\n",
    "print(helloworld)\n",
    "print('\\n')\n",
    "\n",
    "#multi variable\n",
    "print('multi variable')\n",
    "a, b = 3, 4\n",
    "print(a,b)\n",
    "print('\\n')"
   ]
  },
  {
   "cell_type": "code",
   "execution_count": 6,
   "metadata": {},
   "outputs": [
    {
     "name": "stdout",
     "output_type": "stream",
     "text": [
      "1\n",
      "2\n",
      "3\n",
      "1\n",
      "2\n",
      "3\n"
     ]
    }
   ],
   "source": [
    "#list\n",
    "mylist = []\n",
    "mylist.append(1)\n",
    "mylist.append(2)\n",
    "mylist.append(3)\n",
    "print(mylist[0]) # prints 1\n",
    "print(mylist[1]) # prints 2\n",
    "print(mylist[2]) # prints 3\n",
    "\n",
    "# prints out 1,2,3\n",
    "for x in mylist:\n",
    "    print(x)"
   ]
  },
  {
   "cell_type": "code",
   "execution_count": 7,
   "metadata": {},
   "outputs": [
    {
     "name": "stdout",
     "output_type": "stream",
     "text": [
      "b'one'\n",
      "b'two'\n",
      "b'three'\n",
      "b'four'\n",
      "b'1'\n",
      "b'2'\n",
      "b'3'\n",
      "b'4'\n"
     ]
    }
   ],
   "source": [
    "import btree\n",
    "\n",
    "# First, we need to open a stream which holds a database\n",
    "# This is usually a file, but can be in-memory database\n",
    "# using uio.BytesIO, a raw flash partition, etc.\n",
    "# Oftentimes, you want to create a database file if it doesn't\n",
    "# exist and open if it exists. Idiom below takes care of this.\n",
    "# DO NOT open database with \"a+b\" access mode.\n",
    "try:\n",
    "    f = open(\"mydb\", \"r+b\")\n",
    "except OSError:\n",
    "    f = open(\"mydb\", \"w+b\")\n",
    "\n",
    "# Now open a database itself\n",
    "db = btree.open(f)\n",
    "\n",
    "# The keys you add will be sorted internally in the database\n",
    "db[b\"4\"] = b\"four\"\n",
    "db[b\"3\"] = b\"three\"\n",
    "db[b\"1\"] = b\"one\"\n",
    "db[b\"2\"] = b\"two\"\n",
    "\n",
    "# Assume that any changes are cached in memory unless\n",
    "# explicitly flushed (or database closed). Flush database\n",
    "# at the end of each \"transaction\".\n",
    "db.flush()\n",
    "\n",
    "# Prints b'two'\n",
    "#print(db[b\"2\"])\n",
    "\n",
    "# Iterate over sorted keys in the database, starting from b\"2\"\n",
    "# until the end of the database, returning only values.\n",
    "# Mind that arguments passed to values() method are *key* values.\n",
    "# Prints:\n",
    "#   b'two'\n",
    "#   b'three'\n",
    "for word in db.values(b\"1\"):\n",
    "    print(word)\n",
    "\n",
    "#del db[b\"2\"]\n",
    "\n",
    "# No longer true, prints False\n",
    "#print(b\"2\" in db)\n",
    "\n",
    "# Prints:\n",
    "#  b\"1\"\n",
    "#  b\"3\"\n",
    "for key in db:\n",
    "    print(key)\n",
    "\n",
    "db.close()\n",
    "\n",
    "# Don't forget to close the underlying stream!\n",
    "f.close()"
   ]
  },
  {
   "cell_type": "code",
   "execution_count": 8,
   "metadata": {},
   "outputs": [
    {
     "name": "stdout",
     "output_type": "stream",
     "text": [
      "stack: 720 out of 15360\n",
      "GC: total: 118976, used: 10032, free: 108944\n",
      " No. of 1-blocks: 126, 2-blocks: 11, max blk sz: 264, max free sz: 6673\n"
     ]
    }
   ],
   "source": [
    "import micropython\n",
    "micropython.mem_info()"
   ]
  },
  {
   "cell_type": "code",
   "execution_count": null,
   "metadata": {},
   "outputs": [],
   "source": []
  }
 ],
 "metadata": {
  "kernelspec": {
   "display_name": "MicroPython - USB",
   "language": "micropython",
   "name": "micropython"
  },
  "language_info": {
   "codemirror_mode": "python",
   "file_extension": ".py",
   "mimetype": "text/python",
   "name": "micropython"
  }
 },
 "nbformat": 4,
 "nbformat_minor": 4
}
